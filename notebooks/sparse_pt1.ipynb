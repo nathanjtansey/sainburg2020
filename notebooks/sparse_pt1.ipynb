{
 "cells": [
  {
   "cell_type": "code",
   "execution_count": 19,
   "metadata": {
    "ExecuteTime": {
     "end_time": "2020-11-19T17:12:25.183878Z",
     "start_time": "2020-11-19T17:12:25.180110Z"
    }
   },
   "outputs": [],
   "source": [
    "from avgn.downloading.download import download_tqdm\n",
    "from avgn.utils.paths import DATA_DIR\n",
    "from avgn.utils.general import unzip_file\n",
    "from tqdm.autonotebook import tqdm\n",
    "import librosa"
   ]
  },
  {
   "cell_type": "code",
   "execution_count": 2,
   "metadata": {
    "ExecuteTime": {
     "end_time": "2020-11-19T17:08:31.034243Z",
     "start_time": "2020-11-19T17:08:31.030724Z"
    }
   },
   "outputs": [],
   "source": [
    "# # where the files are located online (url, filename)\n",
    "# data_urls = [\n",
    "#     ('https://ndownloader.figshare.com/articles/3470165/versions/1', 'all_files.zip'),\n",
    "# ]\n",
    "# # where to save the files\n",
    "output_loc = DATA_DIR/\"raw/sparse/\""
   ]
  },
  {
   "cell_type": "code",
   "execution_count": 3,
   "metadata": {
    "ExecuteTime": {
     "end_time": "2020-11-19T17:11:03.791983Z",
     "start_time": "2020-11-19T17:11:03.682535Z"
    }
   },
   "outputs": [],
   "source": [
    "# # download the files locally\n",
    "# for url, filename in data_urls:\n",
    "#     # print(url, filename)\n",
    "#     download_tqdm(url, output_location=output_loc/filename)"
   ]
  },
  {
   "cell_type": "code",
   "execution_count": 4,
   "metadata": {
    "ExecuteTime": {
     "end_time": "2020-11-19T17:12:04.606614Z",
     "start_time": "2020-11-19T17:12:04.598788Z"
    }
   },
   "outputs": [],
   "source": [
    "# # list the downloaded files\n",
    "# zip_files = list((output_loc/\"zip_contents\").glob('*.zip'))\n",
    "# zip_files[:2]"
   ]
  },
  {
   "cell_type": "code",
   "execution_count": 5,
   "metadata": {
    "ExecuteTime": {
     "end_time": "2020-11-19T17:13:29.455857Z",
     "start_time": "2020-11-19T17:12:26.856913Z"
    }
   },
   "outputs": [],
   "source": [
    "# # unzip the files\n",
    "# for zf in tqdm(zip_files):\n",
    "#     unzip_file(zf, output_loc/\"zip_contents\")"
   ]
  },
  {
   "cell_type": "code",
   "execution_count": 6,
   "metadata": {
    "ExecuteTime": {
     "end_time": "2020-11-19T17:22:58.807847Z",
     "start_time": "2020-11-19T17:22:58.804375Z"
    }
   },
   "outputs": [],
   "source": [
    "from datetime import datetime\n",
    "import avgn.utils\n",
    "import numpy as np"
   ]
  },
  {
   "cell_type": "code",
   "execution_count": 7,
   "metadata": {
    "ExecuteTime": {
     "end_time": "2020-11-19T17:22:23.577593Z",
     "start_time": "2020-11-19T17:22:23.572763Z"
    }
   },
   "outputs": [
    {
     "data": {
      "text/plain": [
       "PosixPath('/mnt/cube/ntansey/avgn_test/avgn_paper/data/raw/sparse/zip_contents')"
      ]
     },
     "execution_count": 7,
     "metadata": {},
     "output_type": "execute_result"
    }
   ],
   "source": [
    "RAW_DATASET_LOC = output_loc/\"zip_contents\"\n",
    "# RAW_DATASET_LOC"
   ]
  },
  {
   "cell_type": "code",
   "execution_count": 8,
   "metadata": {
    "ExecuteTime": {
     "end_time": "2020-11-19T17:21:15.472008Z",
     "start_time": "2020-11-19T17:21:15.468478Z"
    }
   },
   "outputs": [],
   "source": [
    "# first we create a name for our dataset\n",
    "DATASET_ID = 'sparse_finch'\n",
    "\n",
    "# create a unique datetime identifier for the files output by this notebook\n",
    "DT_ID = datetime.now().strftime(\"%Y-%m-%d_%H-%M-%S\")"
   ]
  },
  {
   "cell_type": "code",
   "execution_count": 9,
   "metadata": {
    "ExecuteTime": {
     "end_time": "2020-11-19T17:23:00.240262Z",
     "start_time": "2020-11-19T17:23:00.110964Z"
    }
   },
   "outputs": [
    {
     "data": {
      "text/plain": [
       "(2965,\n",
       " array([PosixPath('/mnt/cube/ntansey/avgn_test/avgn_paper/data/raw/sparse/zip_contents/Bird9/Wave/98.wav'),\n",
       "        PosixPath('/mnt/cube/ntansey/avgn_test/avgn_paper/data/raw/sparse/zip_contents/Bird9/Wave/99.wav')],\n",
       "       dtype=object))"
      ]
     },
     "execution_count": 9,
     "metadata": {},
     "output_type": "execute_result"
    }
   ],
   "source": [
    "# grab a list of all the raw waveforms\n",
    "wav_list = list(RAW_DATASET_LOC.glob('Bird*/Wave/*.wav'))\n",
    "len(wav_list), np.sort(wav_list)[-2:]"
   ]
  },
  {
   "cell_type": "code",
   "execution_count": 10,
   "metadata": {
    "ExecuteTime": {
     "end_time": "2020-11-19T17:23:24.204136Z",
     "start_time": "2020-11-19T17:23:24.196047Z"
    }
   },
   "outputs": [
    {
     "data": {
      "text/plain": [
       "(11,\n",
       " array([PosixPath('/mnt/cube/ntansey/avgn_test/avgn_paper/data/raw/sparse/zip_contents/Bird8/Annotation.xml'),\n",
       "        PosixPath('/mnt/cube/ntansey/avgn_test/avgn_paper/data/raw/sparse/zip_contents/Bird9/Annotation.xml')],\n",
       "       dtype=object))"
      ]
     },
     "execution_count": 10,
     "metadata": {},
     "output_type": "execute_result"
    }
   ],
   "source": [
    "# grab a list of all of the raw annotation files for each bird\n",
    "annotation_files = list(RAW_DATASET_LOC.glob('Bird*/Annotation.xml'))\n",
    "len(annotation_files), np.sort(annotation_files)[-2:]"
   ]
  },
  {
   "cell_type": "markdown",
   "metadata": {
    "ExecuteTime": {
     "end_time": "2020-11-19T17:24:38.517850Z",
     "start_time": "2020-11-19T17:24:38.512891Z"
    }
   },
   "source": [
    "#### Now, for each wav file, we want to generate a JSON, using information from the XML.\n",
    "\n",
    "Lets take a look inside an XML first, to see what's in there. It might be useful to take a look at this XML file in your web browser to get a better idea of what's in there as well."
   ]
  },
  {
   "cell_type": "code",
   "execution_count": 11,
   "metadata": {
    "ExecuteTime": {
     "end_time": "2020-11-19T17:25:22.277232Z",
     "start_time": "2020-11-19T17:25:22.273837Z"
    }
   },
   "outputs": [],
   "source": [
    "import xml.etree.ElementTree\n",
    "import xml.dom.minidom"
   ]
  },
  {
   "cell_type": "code",
   "execution_count": 12,
   "metadata": {
    "ExecuteTime": {
     "end_time": "2020-11-19T17:30:45.686270Z",
     "start_time": "2020-11-19T17:30:44.886310Z"
    }
   },
   "outputs": [],
   "source": [
    "# print a sample of the XML\n",
    "parssed  = xml.dom.minidom.parse(annotation_files[0].as_posix()) \n",
    "pretty_xml_as_string = parssed.toprettyxml()\n",
    "# print(pretty_xml_as_string[:400] + '...')"
   ]
  },
  {
   "cell_type": "code",
   "execution_count": 13,
   "metadata": {
    "ExecuteTime": {
     "end_time": "2020-11-19T17:29:53.047369Z",
     "start_time": "2020-11-19T17:29:53.044048Z"
    }
   },
   "outputs": [],
   "source": [
    "import pandas as pd"
   ]
  },
  {
   "cell_type": "code",
   "execution_count": 14,
   "metadata": {
    "ExecuteTime": {
     "end_time": "2020-11-19T17:29:53.186956Z",
     "start_time": "2020-11-19T17:29:53.172403Z"
    }
   },
   "outputs": [
    {
     "data": {
      "text/html": [
       "<div>\n",
       "<style scoped>\n",
       "    .dataframe tbody tr th:only-of-type {\n",
       "        vertical-align: middle;\n",
       "    }\n",
       "\n",
       "    .dataframe tbody tr th {\n",
       "        vertical-align: top;\n",
       "    }\n",
       "\n",
       "    .dataframe thead th {\n",
       "        text-align: right;\n",
       "    }\n",
       "</style>\n",
       "<table border=\"1\" class=\"dataframe\">\n",
       "  <thead>\n",
       "    <tr style=\"text-align: right;\">\n",
       "      <th></th>\n",
       "      <th>bird</th>\n",
       "      <th>WaveFileName</th>\n",
       "      <th>Position</th>\n",
       "      <th>Length</th>\n",
       "      <th>NumNote</th>\n",
       "      <th>NotePositions</th>\n",
       "      <th>NoteLengths</th>\n",
       "      <th>NoteLabels</th>\n",
       "    </tr>\n",
       "  </thead>\n",
       "  <tbody>\n",
       "  </tbody>\n",
       "</table>\n",
       "</div>"
      ],
      "text/plain": [
       "Empty DataFrame\n",
       "Columns: [bird, WaveFileName, Position, Length, NumNote, NotePositions, NoteLengths, NoteLabels]\n",
       "Index: []"
      ]
     },
     "execution_count": 14,
     "metadata": {},
     "output_type": "execute_result"
    }
   ],
   "source": [
    "song_df = pd.DataFrame(\n",
    "        columns=[\n",
    "            \"bird\",\n",
    "            \"WaveFileName\",\n",
    "            \"Position\",\n",
    "            \"Length\",\n",
    "            \"NumNote\",\n",
    "            \"NotePositions\",\n",
    "            \"NoteLengths\",\n",
    "            \"NoteLabels\",\n",
    "        ]\n",
    "    )\n",
    "song_df"
   ]
  },
  {
   "cell_type": "code",
   "execution_count": 15,
   "metadata": {
    "ExecuteTime": {
     "end_time": "2020-11-19T17:30:39.392538Z",
     "start_time": "2020-11-19T17:29:57.394733Z"
    }
   },
   "outputs": [
    {
     "data": {
      "application/vnd.jupyter.widget-view+json": {
       "model_id": "3ba012c1e67a41c7a93140bf60b155db",
       "version_major": 2,
       "version_minor": 0
      },
      "text/plain": [
       "  0%|          | 0/11 [00:00<?, ?it/s]"
      ]
     },
     "metadata": {},
     "output_type": "display_data"
    },
    {
     "data": {
      "application/vnd.jupyter.widget-view+json": {
       "model_id": "acf7d9d1fd1e42cfb55487c773734ca2",
       "version_major": 2,
       "version_minor": 0
      },
      "text/plain": [
       "  0%|          | 0/412 [00:00<?, ?it/s]"
      ]
     },
     "metadata": {},
     "output_type": "display_data"
    },
    {
     "data": {
      "application/vnd.jupyter.widget-view+json": {
       "model_id": "0b4199101c6041dabc412ce109b1f456",
       "version_major": 2,
       "version_minor": 0
      },
      "text/plain": [
       "  0%|          | 0/1351 [00:00<?, ?it/s]"
      ]
     },
     "metadata": {},
     "output_type": "display_data"
    },
    {
     "data": {
      "application/vnd.jupyter.widget-view+json": {
       "model_id": "bc18d037b09c4803beb96e51948ee363",
       "version_major": 2,
       "version_minor": 0
      },
      "text/plain": [
       "  0%|          | 0/2110 [00:00<?, ?it/s]"
      ]
     },
     "metadata": {},
     "output_type": "display_data"
    },
    {
     "data": {
      "application/vnd.jupyter.widget-view+json": {
       "model_id": "b878cf35b4dc4ea1a964ff2f06b7fcf6",
       "version_major": 2,
       "version_minor": 0
      },
      "text/plain": [
       "  0%|          | 0/1964 [00:00<?, ?it/s]"
      ]
     },
     "metadata": {},
     "output_type": "display_data"
    },
    {
     "data": {
      "application/vnd.jupyter.widget-view+json": {
       "model_id": "e2ef887d66b94b548c84a856f1b608c3",
       "version_major": 2,
       "version_minor": 0
      },
      "text/plain": [
       "  0%|          | 0/572 [00:00<?, ?it/s]"
      ]
     },
     "metadata": {},
     "output_type": "display_data"
    },
    {
     "data": {
      "application/vnd.jupyter.widget-view+json": {
       "model_id": "5859d8a04cab4c6199ce6baa984f8a51",
       "version_major": 2,
       "version_minor": 0
      },
      "text/plain": [
       "  0%|          | 0/1486 [00:00<?, ?it/s]"
      ]
     },
     "metadata": {},
     "output_type": "display_data"
    },
    {
     "data": {
      "application/vnd.jupyter.widget-view+json": {
       "model_id": "636d4559d0064732926b59f67b836877",
       "version_major": 2,
       "version_minor": 0
      },
      "text/plain": [
       "  0%|          | 0/1495 [00:00<?, ?it/s]"
      ]
     },
     "metadata": {},
     "output_type": "display_data"
    },
    {
     "data": {
      "application/vnd.jupyter.widget-view+json": {
       "model_id": "00c3e94c250344e7a90856568fe93b75",
       "version_major": 2,
       "version_minor": 0
      },
      "text/plain": [
       "  0%|          | 0/1854 [00:00<?, ?it/s]"
      ]
     },
     "metadata": {},
     "output_type": "display_data"
    },
    {
     "data": {
      "application/vnd.jupyter.widget-view+json": {
       "model_id": "5f40059ae80a4a2f8aea8659ece634e2",
       "version_major": 2,
       "version_minor": 0
      },
      "text/plain": [
       "  0%|          | 0/419 [00:00<?, ?it/s]"
      ]
     },
     "metadata": {},
     "output_type": "display_data"
    },
    {
     "data": {
      "application/vnd.jupyter.widget-view+json": {
       "model_id": "3c4b935701424f679c00309c730677da",
       "version_major": 2,
       "version_minor": 0
      },
      "text/plain": [
       "  0%|          | 0/1238 [00:00<?, ?it/s]"
      ]
     },
     "metadata": {},
     "output_type": "display_data"
    },
    {
     "data": {
      "application/vnd.jupyter.widget-view+json": {
       "model_id": "e6762ff5864f4d179bb07bf6e7229d4c",
       "version_major": 2,
       "version_minor": 0
      },
      "text/plain": [
       "  0%|          | 0/2501 [00:00<?, ?it/s]"
      ]
     },
     "metadata": {},
     "output_type": "display_data"
    }
   ],
   "source": [
    "# loop through XML annotation files\n",
    "for bird_loc in tqdm(annotation_files):\n",
    "    # grab the\n",
    "    bird_xml = xml.etree.ElementTree.parse(bird_loc).getroot()\n",
    "    bird = bird_loc.parent.stem\n",
    "    # loop through each \"sequence\" in the datset (corresponding to a bout)\n",
    "    # for element in tqdm(bird_xml.getchildren(), leave=False):\n",
    "    for element in tqdm(list(bird_xml)):\n",
    "        if element.tag == \"Sequence\":\n",
    "            notePositions = []\n",
    "            noteLengths = []\n",
    "            noteLabels = []\n",
    "            # get the metadata for that sequence \n",
    "            # for seq_element in element.getchildren():\n",
    "            for seq_element in list(element):\n",
    "                if seq_element.tag == \"Position\":\n",
    "                    position = seq_element.text\n",
    "                elif seq_element.tag == \"Length\":\n",
    "                    length = seq_element.text\n",
    "                elif seq_element.tag == \"WaveFileName\":\n",
    "                    WaveFileName = seq_element.text\n",
    "                elif seq_element.tag == \"NumNote\":\n",
    "                    NumNote = seq_element.text\n",
    "                # get the metadata for the note\n",
    "                elif seq_element.tag == \"Note\":\n",
    "                    # for note_element in seq_element.getchildren():\n",
    "                    for note_element in list(seq_element):\n",
    "                        if note_element.tag == \"Label\":\n",
    "                            noteLabels.append(note_element.text)\n",
    "                        elif note_element.tag == \"Position\":\n",
    "                            notePositions.append(note_element.text)\n",
    "                        elif note_element.tag == \"Length\":\n",
    "                            noteLengths.append(note_element.text)\n",
    "            # add to the pandas dataframe\n",
    "            song_df.loc[len(song_df)] = [\n",
    "                bird,\n",
    "                WaveFileName,\n",
    "                position,\n",
    "                length,\n",
    "                NumNote,\n",
    "                notePositions,\n",
    "                noteLengths,\n",
    "                noteLabels,\n",
    "            ]"
   ]
  },
  {
   "cell_type": "markdown",
   "metadata": {},
   "source": [
    "### Now we can generate a JSON from that pandas dataframe"
   ]
  },
  {
   "cell_type": "code",
   "execution_count": 21,
   "metadata": {
    "ExecuteTime": {
     "end_time": "2020-11-19T17:39:39.484341Z",
     "start_time": "2020-11-19T17:39:39.480813Z"
    }
   },
   "outputs": [],
   "source": [
    "from avgn.utils.audio import get_samplerate\n",
    "import librosa\n",
    "from avgn.utils.json import NoIndent, NoIndentEncoder\n",
    "import json"
   ]
  },
  {
   "cell_type": "code",
   "execution_count": 24,
   "metadata": {
    "ExecuteTime": {
     "end_time": "2020-11-19T17:40:54.506340Z",
     "start_time": "2020-11-19T17:40:36.573372Z"
    }
   },
   "outputs": [
    {
     "data": {
      "application/vnd.jupyter.widget-view+json": {
       "model_id": "f397c8b249764465a50e369a9e902018",
       "version_major": 2,
       "version_minor": 0
      },
      "text/plain": [
       "  0%|          | 0/11 [00:00<?, ?it/s]"
      ]
     },
     "metadata": {},
     "output_type": "display_data"
    },
    {
     "data": {
      "application/vnd.jupyter.widget-view+json": {
       "model_id": "b8d2f402f9e94232a4e65893277a6ed2",
       "version_major": 2,
       "version_minor": 0
      },
      "text/plain": [
       "  0%|          | 0/135 [00:00<?, ?it/s]"
      ]
     },
     "metadata": {},
     "output_type": "display_data"
    },
    {
     "name": "stderr",
     "output_type": "stream",
     "text": [
      "/tmp/ipykernel_3310558/712308298.py:21: FutureWarning: get_duration() keyword argument 'filename' has been renamed to 'path' in version 0.10.0.\n",
      "\tThis alias will be removed in version 1.0.\n",
      "  wav_duration = librosa.get_duration(filename=wav_loc)\n"
     ]
    },
    {
     "data": {
      "application/vnd.jupyter.widget-view+json": {
       "model_id": "28f8ba9593b44333b32f74a22f2a52fd",
       "version_major": 2,
       "version_minor": 0
      },
      "text/plain": [
       "  0%|          | 0/315 [00:00<?, ?it/s]"
      ]
     },
     "metadata": {},
     "output_type": "display_data"
    },
    {
     "data": {
      "application/vnd.jupyter.widget-view+json": {
       "model_id": "87d2af279dbe4758a2c1aaaf568f9f96",
       "version_major": 2,
       "version_minor": 0
      },
      "text/plain": [
       "  0%|          | 0/94 [00:00<?, ?it/s]"
      ]
     },
     "metadata": {},
     "output_type": "display_data"
    },
    {
     "data": {
      "application/vnd.jupyter.widget-view+json": {
       "model_id": "aaaa4ae209f048d39c3236abcbcb25c7",
       "version_major": 2,
       "version_minor": 0
      },
      "text/plain": [
       "  0%|          | 0/339 [00:00<?, ?it/s]"
      ]
     },
     "metadata": {},
     "output_type": "display_data"
    },
    {
     "data": {
      "application/vnd.jupyter.widget-view+json": {
       "model_id": "130144554b9040cfa5e3cb21401561d9",
       "version_major": 2,
       "version_minor": 0
      },
      "text/plain": [
       "  0%|          | 0/402 [00:00<?, ?it/s]"
      ]
     },
     "metadata": {},
     "output_type": "display_data"
    },
    {
     "data": {
      "application/vnd.jupyter.widget-view+json": {
       "model_id": "18a647b1adff495c8f183c99fe8d07f4",
       "version_major": 2,
       "version_minor": 0
      },
      "text/plain": [
       "  0%|          | 0/441 [00:00<?, ?it/s]"
      ]
     },
     "metadata": {},
     "output_type": "display_data"
    },
    {
     "data": {
      "application/vnd.jupyter.widget-view+json": {
       "model_id": "e4e80206d3054263b13ab2a8c89ff666",
       "version_major": 2,
       "version_minor": 0
      },
      "text/plain": [
       "  0%|          | 0/335 [00:00<?, ?it/s]"
      ]
     },
     "metadata": {},
     "output_type": "display_data"
    },
    {
     "data": {
      "application/vnd.jupyter.widget-view+json": {
       "model_id": "b7410b26ecce4b53ac922ff5233d10ef",
       "version_major": 2,
       "version_minor": 0
      },
      "text/plain": [
       "  0%|          | 0/235 [00:00<?, ?it/s]"
      ]
     },
     "metadata": {},
     "output_type": "display_data"
    },
    {
     "data": {
      "application/vnd.jupyter.widget-view+json": {
       "model_id": "ffcf548cbff84b27af46489daad7424c",
       "version_major": 2,
       "version_minor": 0
      },
      "text/plain": [
       "  0%|          | 0/310 [00:00<?, ?it/s]"
      ]
     },
     "metadata": {},
     "output_type": "display_data"
    },
    {
     "data": {
      "application/vnd.jupyter.widget-view+json": {
       "model_id": "75edbf59198e4401b954e66b2913d8fe",
       "version_major": 2,
       "version_minor": 0
      },
      "text/plain": [
       "  0%|          | 0/142 [00:00<?, ?it/s]"
      ]
     },
     "metadata": {},
     "output_type": "display_data"
    },
    {
     "data": {
      "application/vnd.jupyter.widget-view+json": {
       "model_id": "435260dcd2854fd181dc43bb2389aee4",
       "version_major": 2,
       "version_minor": 0
      },
      "text/plain": [
       "  0%|          | 0/217 [00:00<?, ?it/s]"
      ]
     },
     "metadata": {},
     "output_type": "display_data"
    }
   ],
   "source": [
    "# for each bird\n",
    "for bird in tqdm(np.unique(song_df.bird)):\n",
    "    # grab that bird's annotations\n",
    "    bird_df = song_df[song_df.bird == bird]\n",
    "    \n",
    "    # for each wav file produced by that bird\n",
    "    for wfn in tqdm(bird_df.WaveFileName.unique(), leave=False):\n",
    "        \n",
    "        wfn_df = bird_df[bird_df.WaveFileName == wfn]\n",
    "        \n",
    "        # get the location of the wav\n",
    "        wav_loc = RAW_DATASET_LOC / bird / \"Wave\" / wfn\n",
    "    \n",
    "        # get the wav samplerate and duration\n",
    "        try:\n",
    "            sr = get_samplerate(wav_loc.as_posix()) # this function often has errors\n",
    "        except:\n",
    "            # sr = 22050\n",
    "            thing, sr = librosa.load(wav_loc)\n",
    "        wav_duration = librosa.get_duration(filename=wav_loc)\n",
    "        \n",
    "        # make json dictionary\n",
    "        json_dict = {}\n",
    "        # add species\n",
    "        json_dict[\"species\"] = \"Lonchura striata domestica\"\n",
    "        json_dict[\"common_name\"] = \"Bengalese finch\"\n",
    "        json_dict[\"wav_loc\"] = wav_loc.as_posix()\n",
    "        # rate and length\n",
    "        json_dict[\"samplerate_hz\"] = sr\n",
    "        json_dict[\"length_s\"] = wav_duration\n",
    "        \n",
    "        # make a dataframe of wav info\n",
    "        seq_df = pd.DataFrame(\n",
    "            (\n",
    "                [\n",
    "                    [\n",
    "                        list(np.repeat(sequence_num, len(row.NotePositions))),\n",
    "                        list(row.NoteLabels),\n",
    "                        np.array(\n",
    "                            (np.array(row.NotePositions).astype(\"int\") + int(row.Position))\n",
    "                            / sr\n",
    "                        ).astype(\"float64\"),\n",
    "                        np.array(\n",
    "                            (\n",
    "                                np.array(row.NotePositions).astype(\"int\")\n",
    "                                + np.array(row.NoteLengths).astype(\"int\")\n",
    "                                + int(row.Position)\n",
    "                            )\n",
    "                            / sr\n",
    "                        ).astype(\"float64\"),\n",
    "                    ]\n",
    "                    for sequence_num, (idx, row) in enumerate(wfn_df.iterrows())\n",
    "                ]\n",
    "            ),\n",
    "            columns=[\"sequence_num\", \"labels\", \"start_times\", \"end_times\"],\n",
    "        )\n",
    "        \n",
    "        # add syllable information\n",
    "        json_dict[\"indvs\"] = {\n",
    "            bird: {\n",
    "                \"notes\": {\n",
    "                    \"start_times\": NoIndent(\n",
    "                        list(np.concatenate(seq_df.start_times.values))\n",
    "                    ),\n",
    "                    \"end_times\": NoIndent(list(np.concatenate(seq_df.end_times.values))),\n",
    "                    \"labels\": NoIndent(list(np.concatenate(seq_df.labels.values))),\n",
    "                    \"sequence_num\": NoIndent(\n",
    "                        [int(i) for i in np.concatenate(seq_df.sequence_num.values)]\n",
    "                    ),\n",
    "                }\n",
    "            }\n",
    "        }\n",
    "        \n",
    "        \n",
    "        # dump dict into json format\n",
    "        json_txt = json.dumps(json_dict, cls=NoIndentEncoder, indent=2)\n",
    "\n",
    "        wav_stem = bird + \"_\" + wfn.split(\".\")[0]\n",
    "        json_out = (\n",
    "            DATA_DIR / \"processed\" / DATASET_ID / DT_ID / \"JSON\" / (wav_stem + \".JSON\")\n",
    "        )\n",
    "\n",
    "        # save json\n",
    "        avgn.utils.paths.ensure_dir(json_out.as_posix())\n",
    "        print(json_txt, file=open(json_out.as_posix(), \"w\"))\n",
    "        "
   ]
  },
  {
   "cell_type": "code",
   "execution_count": 25,
   "metadata": {
    "ExecuteTime": {
     "end_time": "2020-11-19T18:31:24.663148Z",
     "start_time": "2020-11-19T18:31:24.658738Z"
    }
   },
   "outputs": [
    {
     "name": "stdout",
     "output_type": "stream",
     "text": [
      "{\n",
      "  \"species\": \"Lonchura striata domestica\",\n",
      "  \"common_name\": \"Bengalese finch\",\n",
      "  \"wav_loc\": \"/mnt/cube/ntansey/avgn_test/avgn_paper/data/raw/sparse/zip_contents/Bird9/Wave/216.wav\",\n",
      "  \"samplerate_hz\": 22050,\n",
      "  \"length_s\": 11.122358276643991,\n",
      "  \"indvs\": {\n",
      "    \"Bird9\": {\n",
      "      \"notes\": {\n",
      "        \"start_times\": [1.6805442176870748, 1.8895238095238096, 2.105759637188209, 2.329251700680272, 2.555646258503401, 2.786394557823129, 3.03891156462585, 3.2551473922902496, 3.488798185941043, 3.719546485260771, 3.937233560090703, 4.1302494331065756, 4.311655328798186, 4.4727437641723355, 4.581587301587302, 4.733968253968254, 4.893605442176871, 5.060498866213152, 5.224489795918367, 5.3913832199546485, 5.5626303854875285, 5.730975056689342, 5.903673469387755, 6.011065759637188, 6.1663492063492065, 6.333242630385487, 6.492879818594104, 6.65687074829932, 6.817959183673469, 6.977596371882086, 7.134331065759637, 7.301224489795918, 7.4681179138322, 7.655328798185941, 7.836734693877551, 8.050068027210884, 8.2097052154195, 8.322902494331066, 8.481088435374149, 8.64798185941043, 8.820680272108843, 8.99047619047619, 9.16172335600907, 9.331519274376417, 9.448344671201815, 9.605079365079366, 9.770521541950114, 9.94031746031746, 10.105759637188209, 10.27265306122449, 10.438095238095238, 10.599183673469387, 10.789297052154195, 11.00843537414966, 11.22467120181406, 11.394467120181407, 11.506213151927438, 11.665850340136055, 11.8356462585034, 12.012698412698413, 12.18249433106576, 12.355192743764173, 12.529342403628117, 12.704943310657596, 12.880544217687074, 13.05469387755102, 13.172244897959184, 13.3318820861678, 13.500226757369614, 13.668571428571429, 13.835464852607709, 14.005260770975056, 14.173605442176871, 14.336145124716554],\n",
      "        \"end_times\": [1.7473015873015874, 1.991111111111111, 2.1899319727891156, 2.427936507936508, 2.6659410430839, 2.895238095238095, 3.153560090702948, 3.3770521541950114, 3.6150566893424037, 3.841451247165533, 4.050430839002267, 4.231836734693878, 4.445170068027211, 4.554013605442177, 4.704943310657597, 4.861678004535148, 5.022766439909297, 5.192562358276644, 5.35655328798186, 5.52780045351474, 5.69469387755102, 5.8644897959183675, 5.98639455782313, 6.137324263038549, 6.296961451247165, 6.460952380952381, 6.622040816326531, 6.7831292517006805, 6.94421768707483, 7.100952380952381, 7.2634920634920634, 7.426031746031746, 7.598730158730159, 7.759818594104308, 7.944126984126984, 8.189387755102041, 8.292426303854874, 8.447709750566894, 8.610249433106576, 8.780045351473923, 8.951292517006802, 9.115283446712018, 9.286530612244897, 9.420045351473924, 9.573151927437642, 9.73859410430839, 9.904036281179138, 10.07092970521542, 10.236371882086168, 10.401814058956916, 10.558548752834467, 10.725442176870748, 10.89233560090703, 11.11437641723356, 11.37124716553288, 11.474285714285715, 11.633922902494332, 11.79936507936508, 11.972063492063493, 12.140408163265306, 12.314557823129253, 12.487256235827664, 12.659954648526076, 12.839909297052154, 13.005351473922902, 13.14031746031746, 13.297052154195011, 13.463945578231293, 13.632290249433106, 13.797732426303854, 13.96607709750567, 14.130068027210884, 14.2897052154195, 14.463854875283447],\n",
      "        \"labels\": [\"0\", \"0\", \"0\", \"0\", \"0\", \"0\", \"0\", \"0\", \"0\", \"0\", \"1\", \"1\", \"2\", \"3\", \"4\", \"4\", \"4\", \"5\", \"5\", \"5\", \"5\", \"5\", \"3\", \"4\", \"4\", \"4\", \"4\", \"4\", \"4\", \"4\", \"4\", \"4\", \"5\", \"1\", \"1\", \"2\", \"3\", \"4\", \"4\", \"4\", \"5\", \"5\", \"5\", \"3\", \"4\", \"4\", \"4\", \"4\", \"4\", \"4\", \"4\", \"5\", \"1\", \"1\", \"2\", \"3\", \"4\", \"4\", \"4\", \"5\", \"5\", \"5\", \"5\", \"5\", \"5\", \"3\", \"4\", \"4\", \"4\", \"4\", \"4\", \"4\", \"4\", \"5\"],\n",
      "        \"sequence_num\": [0, 0, 0, 0, 0, 0, 0, 0, 0, 0, 0, 0, 0, 0, 1, 1, 1, 1, 1, 1, 1, 1, 1, 1, 1, 1, 1, 1, 1, 2, 2, 2, 2, 2, 2, 2, 2, 2, 2, 2, 2, 2, 2, 2, 3, 3, 3, 3, 3, 3, 3, 3, 3, 3, 3, 3, 3, 3, 3, 4, 4, 4, 4, 4, 4, 4, 4, 4, 4, 4, 4, 4, 4, 4]\n",
      "      }\n",
      "    }\n",
      "  }\n",
      "}\n"
     ]
    }
   ],
   "source": [
    "print(json_txt) # example of json needed for each song, with start times for each syllable"
   ]
  },
  {
   "cell_type": "code",
   "execution_count": null,
   "metadata": {},
   "outputs": [],
   "source": []
  }
 ],
 "metadata": {
  "kernelspec": {
   "display_name": "Python 3 (ipykernel)",
   "language": "python",
   "name": "python3"
  },
  "language_info": {
   "codemirror_mode": {
    "name": "ipython",
    "version": 3
   },
   "file_extension": ".py",
   "mimetype": "text/x-python",
   "name": "python",
   "nbconvert_exporter": "python",
   "pygments_lexer": "ipython3",
   "version": "3.12.4"
  }
 },
 "nbformat": 4,
 "nbformat_minor": 4
}
