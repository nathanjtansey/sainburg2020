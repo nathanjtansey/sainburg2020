{
 "cells": [
  {
   "cell_type": "code",
   "execution_count": 1,
   "metadata": {
    "ExecuteTime": {
     "end_time": "2020-11-19T17:12:25.183878Z",
     "start_time": "2020-11-19T17:12:25.180110Z"
    }
   },
   "outputs": [
    {
     "name": "stderr",
     "output_type": "stream",
     "text": [
      "/mnt/cube/ntansey/avgn_test/avgn_paper/avgn/utils/general.py:8: TqdmExperimentalWarning: Using `tqdm.autonotebook.tqdm` in notebook mode. Use `tqdm.tqdm` instead to force console mode (e.g. in jupyter console)\n",
      "  from tqdm.autonotebook import tqdm\n"
     ]
    }
   ],
   "source": [
    "from avgn.downloading.download import download_tqdm\n",
    "from avgn.utils.paths import DATA_DIR\n",
    "from avgn.utils.general import unzip_file\n",
    "from tqdm.autonotebook import tqdm"
   ]
  },
  {
   "cell_type": "code",
   "execution_count": 4,
   "metadata": {
    "ExecuteTime": {
     "end_time": "2020-11-19T17:08:31.034243Z",
     "start_time": "2020-11-19T17:08:31.030724Z"
    }
   },
   "outputs": [],
   "source": [
    "# # where the files are located online (url, filename)\n",
    "# data_urls = [\n",
    "#     ('https://ndownloader.figshare.com/articles/3470165/versions/1', 'all_files.zip'),\n",
    "# ]\n",
    "# # where to save the files\n",
    "output_loc = DATA_DIR/\"raw/koumura/\""
   ]
  },
  {
   "cell_type": "code",
   "execution_count": 3,
   "metadata": {
    "ExecuteTime": {
     "end_time": "2020-11-19T17:11:03.791983Z",
     "start_time": "2020-11-19T17:11:03.682535Z"
    }
   },
   "outputs": [],
   "source": [
    "# # download the files locally\n",
    "# for url, filename in data_urls:\n",
    "#     # print(url, filename)\n",
    "#     download_tqdm(url, output_location=output_loc/filename)"
   ]
  },
  {
   "cell_type": "code",
   "execution_count": 1,
   "metadata": {
    "ExecuteTime": {
     "end_time": "2020-11-19T17:12:04.606614Z",
     "start_time": "2020-11-19T17:12:04.598788Z"
    }
   },
   "outputs": [],
   "source": [
    "# # list the downloaded files\n",
    "# zip_files = list((output_loc/\"zip_contents\").glob('*.zip'))\n",
    "# zip_files[:2]"
   ]
  },
  {
   "cell_type": "code",
   "execution_count": 31,
   "metadata": {
    "ExecuteTime": {
     "end_time": "2020-11-19T17:13:29.455857Z",
     "start_time": "2020-11-19T17:12:26.856913Z"
    }
   },
   "outputs": [
    {
     "data": {
      "application/vnd.jupyter.widget-view+json": {
       "model_id": "e454bf7817d34768932b3dacd6d4cf9f",
       "version_major": 2,
       "version_minor": 0
      },
      "text/plain": [
       "  0%|          | 0/11 [00:00<?, ?it/s]"
      ]
     },
     "metadata": {},
     "output_type": "display_data"
    },
    {
     "data": {
      "application/vnd.jupyter.widget-view+json": {
       "model_id": "33a9cb7b0017420390d538b7783f048e",
       "version_major": 2,
       "version_minor": 0
      },
      "text/plain": [
       "  0%|          | 0/342 [00:00<?, ?it/s]"
      ]
     },
     "metadata": {},
     "output_type": "display_data"
    },
    {
     "data": {
      "application/vnd.jupyter.widget-view+json": {
       "model_id": "432d99009d114adf98f18d163fd20676",
       "version_major": 2,
       "version_minor": 0
      },
      "text/plain": [
       "  0%|          | 0/346 [00:00<?, ?it/s]"
      ]
     },
     "metadata": {},
     "output_type": "display_data"
    },
    {
     "data": {
      "application/vnd.jupyter.widget-view+json": {
       "model_id": "dc78e90ca606480b98c4d7750265805d",
       "version_major": 2,
       "version_minor": 0
      },
      "text/plain": [
       "  0%|          | 0/409 [00:00<?, ?it/s]"
      ]
     },
     "metadata": {},
     "output_type": "display_data"
    },
    {
     "data": {
      "application/vnd.jupyter.widget-view+json": {
       "model_id": "516fbf1c6d1b4325a8c5149abb07aa85",
       "version_major": 2,
       "version_minor": 0
      },
      "text/plain": [
       "  0%|          | 0/448 [00:00<?, ?it/s]"
      ]
     },
     "metadata": {},
     "output_type": "display_data"
    },
    {
     "data": {
      "application/vnd.jupyter.widget-view+json": {
       "model_id": "5c78af137f5a4cf4a785ab60c77afbc6",
       "version_major": 2,
       "version_minor": 0
      },
      "text/plain": [
       "  0%|          | 0/101 [00:00<?, ?it/s]"
      ]
     },
     "metadata": {},
     "output_type": "display_data"
    },
    {
     "data": {
      "application/vnd.jupyter.widget-view+json": {
       "model_id": "fada6320a1b84c82b3655f8d1781002a",
       "version_major": 2,
       "version_minor": 0
      },
      "text/plain": [
       "  0%|          | 0/317 [00:00<?, ?it/s]"
      ]
     },
     "metadata": {},
     "output_type": "display_data"
    },
    {
     "data": {
      "application/vnd.jupyter.widget-view+json": {
       "model_id": "0ab26f1fe9c8443aafa37cce992d4880",
       "version_major": 2,
       "version_minor": 0
      },
      "text/plain": [
       "  0%|          | 0/142 [00:00<?, ?it/s]"
      ]
     },
     "metadata": {},
     "output_type": "display_data"
    },
    {
     "data": {
      "application/vnd.jupyter.widget-view+json": {
       "model_id": "0dcb276bea9346ccb0a0f262eb1fc40a",
       "version_major": 2,
       "version_minor": 0
      },
      "text/plain": [
       "  0%|          | 0/224 [00:00<?, ?it/s]"
      ]
     },
     "metadata": {},
     "output_type": "display_data"
    },
    {
     "data": {
      "application/vnd.jupyter.widget-view+json": {
       "model_id": "848104ffccba41efad3cfded7646e6f4",
       "version_major": 2,
       "version_minor": 0
      },
      "text/plain": [
       "  0%|          | 0/149 [00:00<?, ?it/s]"
      ]
     },
     "metadata": {},
     "output_type": "display_data"
    },
    {
     "data": {
      "application/vnd.jupyter.widget-view+json": {
       "model_id": "accfc65602c3427ba9498ece7c269093",
       "version_major": 2,
       "version_minor": 0
      },
      "text/plain": [
       "  0%|          | 0/322 [00:00<?, ?it/s]"
      ]
     },
     "metadata": {},
     "output_type": "display_data"
    },
    {
     "data": {
      "application/vnd.jupyter.widget-view+json": {
       "model_id": "187d356c6050412599f589aca63a2c74",
       "version_major": 2,
       "version_minor": 0
      },
      "text/plain": [
       "  0%|          | 0/242 [00:00<?, ?it/s]"
      ]
     },
     "metadata": {},
     "output_type": "display_data"
    }
   ],
   "source": [
    "# # unzip the files\n",
    "# for zf in tqdm(zip_files):\n",
    "#     unzip_file(zf, output_loc/\"zip_contents\")"
   ]
  },
  {
   "cell_type": "markdown",
   "metadata": {},
   "source": [
    "### Getting the data into a usable format\n",
    "Now that the data is saved, we want to get the annotations into the same format as all of the other datasets. \n",
    "\n",
    "The format we use is JSON, which just holds a dictionary of information about the dataset. \n",
    "\n",
    "\n",
    "For each .WAV file, we will create a JSON that looks something like this:\n",
    "\n",
    "```\n",
    "{\n",
    "    \"length_s\": 15,\n",
    "    \"samplerate_hz\": 30000,\n",
    "    \"wav_location\": \"/location/of/my/dataset/myfile.wav\",\n",
    "    \"indvs\": {\n",
    "        \"Bird1\": {\n",
    "            \"species\": \"Bengalese finch\",\n",
    "            \"units\": {\n",
    "                \"syllables\": {\n",
    "                    \"start_times\": [1.5, 2.5, 6],\n",
    "                    \"end_times\": [2.3, 4.5, 8],\n",
    "                    \"labels\": [\"a\", \"b\", \"c\"],\n",
    "                },\n",
    "        }\n",
    "    },\n",
    "}\n",
    "```\n",
    "\n",
    "To get data into this format, you're generally going to have two write a custom parser to convert your data from your format into AVGN format. We're going to create a custom parser here for this dataset, as an example. You could also create these JSONs by hand. \n",
    "\n",
    "**Note:** If your dataset is more annotated than that, take a look at the readme.md in the github repository for more examples of JSONs. If your dataset is not already segmented for syllables, don't add \"units\", and you can add them after automatic segmentation."
   ]
  },
  {
   "cell_type": "code",
   "execution_count": 2,
   "metadata": {
    "ExecuteTime": {
     "end_time": "2020-11-19T17:22:58.807847Z",
     "start_time": "2020-11-19T17:22:58.804375Z"
    }
   },
   "outputs": [],
   "source": [
    "from datetime import datetime\n",
    "import avgn.utils\n",
    "import numpy as np"
   ]
  },
  {
   "cell_type": "code",
   "execution_count": 5,
   "metadata": {
    "ExecuteTime": {
     "end_time": "2020-11-19T17:22:23.577593Z",
     "start_time": "2020-11-19T17:22:23.572763Z"
    }
   },
   "outputs": [
    {
     "data": {
      "text/plain": [
       "PosixPath('/mnt/cube/ntansey/avgn_test/avgn_paper/data/raw/koumura/zip_contents')"
      ]
     },
     "execution_count": 5,
     "metadata": {},
     "output_type": "execute_result"
    }
   ],
   "source": [
    "RAW_DATASET_LOC = output_loc/\"zip_contents\"\n",
    "# RAW_DATASET_LOC = '/mnt/cube/tsainbur/Projects/github_repos/avgn_paper/data/raw/koumura/zip_contents'\n",
    "RAW_DATASET_LOC"
   ]
  },
  {
   "cell_type": "code",
   "execution_count": 6,
   "metadata": {
    "ExecuteTime": {
     "end_time": "2020-11-19T17:21:15.472008Z",
     "start_time": "2020-11-19T17:21:15.468478Z"
    }
   },
   "outputs": [],
   "source": [
    "# first we create a name for our dataset\n",
    "DATASET_ID = 'koumura_bengalese_finch'\n",
    "\n",
    "# create a unique datetime identifier for the files output by this notebook\n",
    "DT_ID = datetime.now().strftime(\"%Y-%m-%d_%H-%M-%S\")"
   ]
  },
  {
   "cell_type": "code",
   "execution_count": 7,
   "metadata": {
    "ExecuteTime": {
     "end_time": "2020-11-19T17:23:00.240262Z",
     "start_time": "2020-11-19T17:23:00.110964Z"
    }
   },
   "outputs": [
    {
     "data": {
      "text/plain": [
       "(2965,\n",
       " array([PosixPath('/mnt/cube/ntansey/avgn_test/avgn_paper/data/raw/koumura/zip_contents/Bird9/Wave/98.wav'),\n",
       "        PosixPath('/mnt/cube/ntansey/avgn_test/avgn_paper/data/raw/koumura/zip_contents/Bird9/Wave/99.wav')],\n",
       "       dtype=object))"
      ]
     },
     "execution_count": 7,
     "metadata": {},
     "output_type": "execute_result"
    }
   ],
   "source": [
    "# grab a list of all the raw waveforms\n",
    "wav_list = list(RAW_DATASET_LOC.glob('Bird*/Wave/*.wav'))\n",
    "len(wav_list), np.sort(wav_list)[-2:]"
   ]
  },
  {
   "cell_type": "code",
   "execution_count": 8,
   "metadata": {
    "ExecuteTime": {
     "end_time": "2020-11-19T17:23:24.204136Z",
     "start_time": "2020-11-19T17:23:24.196047Z"
    }
   },
   "outputs": [
    {
     "data": {
      "text/plain": [
       "(11,\n",
       " array([PosixPath('/mnt/cube/ntansey/avgn_test/avgn_paper/data/raw/koumura/zip_contents/Bird8/Annotation.xml'),\n",
       "        PosixPath('/mnt/cube/ntansey/avgn_test/avgn_paper/data/raw/koumura/zip_contents/Bird9/Annotation.xml')],\n",
       "       dtype=object))"
      ]
     },
     "execution_count": 8,
     "metadata": {},
     "output_type": "execute_result"
    }
   ],
   "source": [
    "# grab a list of all of the raw annotation files for each bird\n",
    "annotation_files = list(RAW_DATASET_LOC.glob('Bird*/Annotation.xml'))\n",
    "len(annotation_files), np.sort(annotation_files)[-2:]"
   ]
  },
  {
   "cell_type": "markdown",
   "metadata": {
    "ExecuteTime": {
     "end_time": "2020-11-19T17:24:38.517850Z",
     "start_time": "2020-11-19T17:24:38.512891Z"
    }
   },
   "source": [
    "#### Now, for each wav file, we want to generate a JSON, using information from the XML.\n",
    "\n",
    "Lets take a look inside an XML first, to see what's in there. It might be useful to take a look at this XML file in your web browser to get a better idea of what's in there as well."
   ]
  },
  {
   "cell_type": "code",
   "execution_count": 9,
   "metadata": {
    "ExecuteTime": {
     "end_time": "2020-11-19T17:25:22.277232Z",
     "start_time": "2020-11-19T17:25:22.273837Z"
    }
   },
   "outputs": [],
   "source": [
    "import xml.etree.ElementTree\n",
    "import xml.dom.minidom"
   ]
  },
  {
   "cell_type": "code",
   "execution_count": 11,
   "metadata": {
    "ExecuteTime": {
     "end_time": "2020-11-19T17:30:45.686270Z",
     "start_time": "2020-11-19T17:30:44.886310Z"
    }
   },
   "outputs": [],
   "source": [
    "# print a sample of the XML\n",
    "parssed  = xml.dom.minidom.parse(annotation_files[0].as_posix()) \n",
    "pretty_xml_as_string = parssed.toprettyxml()\n",
    "# print(pretty_xml_as_string[:400] + '...')"
   ]
  },
  {
   "cell_type": "code",
   "execution_count": 12,
   "metadata": {
    "ExecuteTime": {
     "end_time": "2020-11-19T17:29:53.047369Z",
     "start_time": "2020-11-19T17:29:53.044048Z"
    }
   },
   "outputs": [],
   "source": [
    "import pandas as pd"
   ]
  },
  {
   "cell_type": "code",
   "execution_count": 14,
   "metadata": {
    "ExecuteTime": {
     "end_time": "2020-11-19T17:29:53.186956Z",
     "start_time": "2020-11-19T17:29:53.172403Z"
    }
   },
   "outputs": [
    {
     "data": {
      "text/html": [
       "<div>\n",
       "<style scoped>\n",
       "    .dataframe tbody tr th:only-of-type {\n",
       "        vertical-align: middle;\n",
       "    }\n",
       "\n",
       "    .dataframe tbody tr th {\n",
       "        vertical-align: top;\n",
       "    }\n",
       "\n",
       "    .dataframe thead th {\n",
       "        text-align: right;\n",
       "    }\n",
       "</style>\n",
       "<table border=\"1\" class=\"dataframe\">\n",
       "  <thead>\n",
       "    <tr style=\"text-align: right;\">\n",
       "      <th></th>\n",
       "      <th>bird</th>\n",
       "      <th>WaveFileName</th>\n",
       "      <th>Position</th>\n",
       "      <th>Length</th>\n",
       "      <th>NumNote</th>\n",
       "      <th>NotePositions</th>\n",
       "      <th>NoteLengths</th>\n",
       "      <th>NoteLabels</th>\n",
       "    </tr>\n",
       "  </thead>\n",
       "  <tbody>\n",
       "  </tbody>\n",
       "</table>\n",
       "</div>"
      ],
      "text/plain": [
       "Empty DataFrame\n",
       "Columns: [bird, WaveFileName, Position, Length, NumNote, NotePositions, NoteLengths, NoteLabels]\n",
       "Index: []"
      ]
     },
     "execution_count": 14,
     "metadata": {},
     "output_type": "execute_result"
    }
   ],
   "source": [
    "song_df = pd.DataFrame(\n",
    "        columns=[\n",
    "            \"bird\",\n",
    "            \"WaveFileName\",\n",
    "            \"Position\",\n",
    "            \"Length\",\n",
    "            \"NumNote\",\n",
    "            \"NotePositions\",\n",
    "            \"NoteLengths\",\n",
    "            \"NoteLabels\",\n",
    "        ]\n",
    "    )\n",
    "song_df"
   ]
  },
  {
   "cell_type": "code",
   "execution_count": 15,
   "metadata": {
    "ExecuteTime": {
     "end_time": "2020-11-19T17:30:39.392538Z",
     "start_time": "2020-11-19T17:29:57.394733Z"
    }
   },
   "outputs": [
    {
     "data": {
      "application/vnd.jupyter.widget-view+json": {
       "model_id": "734478369ce54b0fa3db6f2415f003dd",
       "version_major": 2,
       "version_minor": 0
      },
      "text/plain": [
       "  0%|          | 0/11 [00:00<?, ?it/s]"
      ]
     },
     "metadata": {},
     "output_type": "display_data"
    },
    {
     "data": {
      "application/vnd.jupyter.widget-view+json": {
       "model_id": "d3f5b050dbf7437ba3b737d6162dca9f",
       "version_major": 2,
       "version_minor": 0
      },
      "text/plain": [
       "  0%|          | 0/1238 [00:00<?, ?it/s]"
      ]
     },
     "metadata": {},
     "output_type": "display_data"
    },
    {
     "data": {
      "application/vnd.jupyter.widget-view+json": {
       "model_id": "66e98fa1f2574e14963d5dce227c46af",
       "version_major": 2,
       "version_minor": 0
      },
      "text/plain": [
       "  0%|          | 0/2501 [00:00<?, ?it/s]"
      ]
     },
     "metadata": {},
     "output_type": "display_data"
    },
    {
     "data": {
      "application/vnd.jupyter.widget-view+json": {
       "model_id": "c6e9d0052fd74f5a87e37e599337702f",
       "version_major": 2,
       "version_minor": 0
      },
      "text/plain": [
       "  0%|          | 0/412 [00:00<?, ?it/s]"
      ]
     },
     "metadata": {},
     "output_type": "display_data"
    },
    {
     "data": {
      "application/vnd.jupyter.widget-view+json": {
       "model_id": "d79129de16fa440ba75e8f74fca8faec",
       "version_major": 2,
       "version_minor": 0
      },
      "text/plain": [
       "  0%|          | 0/1495 [00:00<?, ?it/s]"
      ]
     },
     "metadata": {},
     "output_type": "display_data"
    },
    {
     "data": {
      "application/vnd.jupyter.widget-view+json": {
       "model_id": "8188b7dd204146d5bd7f3ef2b869964e",
       "version_major": 2,
       "version_minor": 0
      },
      "text/plain": [
       "  0%|          | 0/419 [00:00<?, ?it/s]"
      ]
     },
     "metadata": {},
     "output_type": "display_data"
    },
    {
     "data": {
      "application/vnd.jupyter.widget-view+json": {
       "model_id": "d21d6d652a8c4efda918c3ae7d0a978c",
       "version_major": 2,
       "version_minor": 0
      },
      "text/plain": [
       "  0%|          | 0/1854 [00:00<?, ?it/s]"
      ]
     },
     "metadata": {},
     "output_type": "display_data"
    },
    {
     "data": {
      "application/vnd.jupyter.widget-view+json": {
       "model_id": "aaef7e1676b94833b65f795638250f25",
       "version_major": 2,
       "version_minor": 0
      },
      "text/plain": [
       "  0%|          | 0/572 [00:00<?, ?it/s]"
      ]
     },
     "metadata": {},
     "output_type": "display_data"
    },
    {
     "data": {
      "application/vnd.jupyter.widget-view+json": {
       "model_id": "d50b1718a7a7407299ae6a1dddc81222",
       "version_major": 2,
       "version_minor": 0
      },
      "text/plain": [
       "  0%|          | 0/1486 [00:00<?, ?it/s]"
      ]
     },
     "metadata": {},
     "output_type": "display_data"
    },
    {
     "data": {
      "application/vnd.jupyter.widget-view+json": {
       "model_id": "75bf3a6bd67b4e44a1723caa9ef1d8e9",
       "version_major": 2,
       "version_minor": 0
      },
      "text/plain": [
       "  0%|          | 0/2110 [00:00<?, ?it/s]"
      ]
     },
     "metadata": {},
     "output_type": "display_data"
    },
    {
     "data": {
      "application/vnd.jupyter.widget-view+json": {
       "model_id": "9758170b2da846d39c8f69a514f1d5fa",
       "version_major": 2,
       "version_minor": 0
      },
      "text/plain": [
       "  0%|          | 0/1351 [00:00<?, ?it/s]"
      ]
     },
     "metadata": {},
     "output_type": "display_data"
    },
    {
     "data": {
      "application/vnd.jupyter.widget-view+json": {
       "model_id": "c9ac2066d54a497f823f3e565216a4ed",
       "version_major": 2,
       "version_minor": 0
      },
      "text/plain": [
       "  0%|          | 0/1964 [00:00<?, ?it/s]"
      ]
     },
     "metadata": {},
     "output_type": "display_data"
    }
   ],
   "source": [
    "# loop through XML annotation files\n",
    "for bird_loc in tqdm(annotation_files):\n",
    "    # grab the\n",
    "    bird_xml = xml.etree.ElementTree.parse(bird_loc).getroot()\n",
    "    bird = bird_loc.parent.stem\n",
    "    # loop through each \"sequence\" in the datset (corresponding to a bout)\n",
    "    # for element in tqdm(bird_xml.getchildren(), leave=False):\n",
    "    for element in tqdm(list(bird_xml)):\n",
    "        if element.tag == \"Sequence\":\n",
    "            notePositions = []\n",
    "            noteLengths = []\n",
    "            noteLabels = []\n",
    "            # get the metadata for that sequence \n",
    "            # for seq_element in element.getchildren():\n",
    "            for seq_element in list(element):\n",
    "                if seq_element.tag == \"Position\":\n",
    "                    position = seq_element.text\n",
    "                elif seq_element.tag == \"Length\":\n",
    "                    length = seq_element.text\n",
    "                elif seq_element.tag == \"WaveFileName\":\n",
    "                    WaveFileName = seq_element.text\n",
    "                elif seq_element.tag == \"NumNote\":\n",
    "                    NumNote = seq_element.text\n",
    "                # get the metadata for the note\n",
    "                elif seq_element.tag == \"Note\":\n",
    "                    # for note_element in seq_element.getchildren():\n",
    "                    for note_element in list(seq_element):\n",
    "                        if note_element.tag == \"Label\":\n",
    "                            noteLabels.append(note_element.text)\n",
    "                        elif note_element.tag == \"Position\":\n",
    "                            notePositions.append(note_element.text)\n",
    "                        elif note_element.tag == \"Length\":\n",
    "                            noteLengths.append(note_element.text)\n",
    "            # add to the pandas dataframe\n",
    "            song_df.loc[len(song_df)] = [\n",
    "                bird,\n",
    "                WaveFileName,\n",
    "                position,\n",
    "                length,\n",
    "                NumNote,\n",
    "                notePositions,\n",
    "                noteLengths,\n",
    "                noteLabels,\n",
    "            ]"
   ]
  },
  {
   "cell_type": "code",
   "execution_count": 17,
   "metadata": {
    "ExecuteTime": {
     "end_time": "2020-11-19T17:30:39.408299Z",
     "start_time": "2020-11-19T17:30:39.394203Z"
    }
   },
   "outputs": [],
   "source": [
    "# song_df[:3]"
   ]
  },
  {
   "cell_type": "markdown",
   "metadata": {},
   "source": [
    "### Now we can generate a JSON from that pandas dataframe"
   ]
  },
  {
   "cell_type": "code",
   "execution_count": 18,
   "metadata": {
    "ExecuteTime": {
     "end_time": "2020-11-19T17:39:39.484341Z",
     "start_time": "2020-11-19T17:39:39.480813Z"
    }
   },
   "outputs": [],
   "source": [
    "from avgn.utils.audio import get_samplerate\n",
    "import librosa\n",
    "from avgn.utils.json import NoIndent, NoIndentEncoder\n",
    "import json"
   ]
  },
  {
   "cell_type": "code",
   "execution_count": 19,
   "metadata": {
    "ExecuteTime": {
     "end_time": "2020-11-19T17:40:54.506340Z",
     "start_time": "2020-11-19T17:40:36.573372Z"
    }
   },
   "outputs": [
    {
     "data": {
      "application/vnd.jupyter.widget-view+json": {
       "model_id": "27af1ef79ca44f4cbd42414368da4e8b",
       "version_major": 2,
       "version_minor": 0
      },
      "text/plain": [
       "  0%|          | 0/11 [00:00<?, ?it/s]"
      ]
     },
     "metadata": {},
     "output_type": "display_data"
    },
    {
     "data": {
      "application/vnd.jupyter.widget-view+json": {
       "model_id": "9efde49694b84ba08c49cd3da997cf00",
       "version_major": 2,
       "version_minor": 0
      },
      "text/plain": [
       "  0%|          | 0/135 [00:00<?, ?it/s]"
      ]
     },
     "metadata": {},
     "output_type": "display_data"
    },
    {
     "name": "stderr",
     "output_type": "stream",
     "text": [
      "/tmp/ipykernel_3051521/192333142.py:16: FutureWarning: get_duration() keyword argument 'filename' has been renamed to 'path' in version 0.10.0.\n",
      "\tThis alias will be removed in version 1.0.\n",
      "  wav_duration = librosa.get_duration(filename=wav_loc)\n"
     ]
    },
    {
     "data": {
      "application/vnd.jupyter.widget-view+json": {
       "model_id": "9a33aa212f1145f6b7c0792594e6a2d0",
       "version_major": 2,
       "version_minor": 0
      },
      "text/plain": [
       "  0%|          | 0/315 [00:00<?, ?it/s]"
      ]
     },
     "metadata": {},
     "output_type": "display_data"
    },
    {
     "data": {
      "application/vnd.jupyter.widget-view+json": {
       "model_id": "13ff98a9aaa44e698df53dae0328ab47",
       "version_major": 2,
       "version_minor": 0
      },
      "text/plain": [
       "  0%|          | 0/94 [00:00<?, ?it/s]"
      ]
     },
     "metadata": {},
     "output_type": "display_data"
    },
    {
     "data": {
      "application/vnd.jupyter.widget-view+json": {
       "model_id": "e6568c3da316463985b1821156e8a6ed",
       "version_major": 2,
       "version_minor": 0
      },
      "text/plain": [
       "  0%|          | 0/339 [00:00<?, ?it/s]"
      ]
     },
     "metadata": {},
     "output_type": "display_data"
    },
    {
     "data": {
      "application/vnd.jupyter.widget-view+json": {
       "model_id": "13fade5b791143098a57801e24ee0c31",
       "version_major": 2,
       "version_minor": 0
      },
      "text/plain": [
       "  0%|          | 0/402 [00:00<?, ?it/s]"
      ]
     },
     "metadata": {},
     "output_type": "display_data"
    },
    {
     "data": {
      "application/vnd.jupyter.widget-view+json": {
       "model_id": "8013e00e09ac42899f2b18b9232bb0b0",
       "version_major": 2,
       "version_minor": 0
      },
      "text/plain": [
       "  0%|          | 0/441 [00:00<?, ?it/s]"
      ]
     },
     "metadata": {},
     "output_type": "display_data"
    },
    {
     "data": {
      "application/vnd.jupyter.widget-view+json": {
       "model_id": "28161a636fdd4edc9a2080943275a5d7",
       "version_major": 2,
       "version_minor": 0
      },
      "text/plain": [
       "  0%|          | 0/335 [00:00<?, ?it/s]"
      ]
     },
     "metadata": {},
     "output_type": "display_data"
    },
    {
     "data": {
      "application/vnd.jupyter.widget-view+json": {
       "model_id": "faf2010094a74f448bc98a06e18d728d",
       "version_major": 2,
       "version_minor": 0
      },
      "text/plain": [
       "  0%|          | 0/235 [00:00<?, ?it/s]"
      ]
     },
     "metadata": {},
     "output_type": "display_data"
    },
    {
     "data": {
      "application/vnd.jupyter.widget-view+json": {
       "model_id": "3aa89f9954144b7da1d79df6f873e7e8",
       "version_major": 2,
       "version_minor": 0
      },
      "text/plain": [
       "  0%|          | 0/310 [00:00<?, ?it/s]"
      ]
     },
     "metadata": {},
     "output_type": "display_data"
    },
    {
     "data": {
      "application/vnd.jupyter.widget-view+json": {
       "model_id": "b404f4ab590b4ec8bc035d9fbeb43304",
       "version_major": 2,
       "version_minor": 0
      },
      "text/plain": [
       "  0%|          | 0/142 [00:00<?, ?it/s]"
      ]
     },
     "metadata": {},
     "output_type": "display_data"
    },
    {
     "data": {
      "application/vnd.jupyter.widget-view+json": {
       "model_id": "bc098ede40624237b2bc997b0ef31174",
       "version_major": 2,
       "version_minor": 0
      },
      "text/plain": [
       "  0%|          | 0/217 [00:00<?, ?it/s]"
      ]
     },
     "metadata": {},
     "output_type": "display_data"
    }
   ],
   "source": [
    "# for each bird\n",
    "for bird in tqdm(np.unique(song_df.bird)):\n",
    "    # grab that bird's annotations\n",
    "    bird_df = song_df[song_df.bird == bird]\n",
    "    \n",
    "    # for each wav file produced by that bird\n",
    "    for wfn in tqdm(bird_df.WaveFileName.unique(), leave=False):\n",
    "        \n",
    "        wfn_df = bird_df[bird_df.WaveFileName == wfn]\n",
    "        \n",
    "        # get the location of the wav\n",
    "        wav_loc = RAW_DATASET_LOC / bird / \"Wave\" / wfn\n",
    "    \n",
    "        # get the wav samplerate and duration\n",
    "        sr = get_samplerate(wav_loc.as_posix())\n",
    "        wav_duration = librosa.get_duration(filename=wav_loc)\n",
    "        \n",
    "        # make json dictionary\n",
    "        json_dict = {}\n",
    "        # add species\n",
    "        json_dict[\"species\"] = \"Lonchura striata domestica\"\n",
    "        json_dict[\"common_name\"] = \"Bengalese finch\"\n",
    "        json_dict[\"wav_loc\"] = wav_loc.as_posix()\n",
    "        # rate and length\n",
    "        json_dict[\"samplerate_hz\"] = sr\n",
    "        json_dict[\"length_s\"] = wav_duration\n",
    "        \n",
    "        # make a dataframe of wav info\n",
    "        seq_df = pd.DataFrame(\n",
    "            (\n",
    "                [\n",
    "                    [\n",
    "                        list(np.repeat(sequence_num, len(row.NotePositions))),\n",
    "                        list(row.NoteLabels),\n",
    "                        np.array(\n",
    "                            (np.array(row.NotePositions).astype(\"int\") + int(row.Position))\n",
    "                            / sr\n",
    "                        ).astype(\"float64\"),\n",
    "                        np.array(\n",
    "                            (\n",
    "                                np.array(row.NotePositions).astype(\"int\")\n",
    "                                + np.array(row.NoteLengths).astype(\"int\")\n",
    "                                + int(row.Position)\n",
    "                            )\n",
    "                            / sr\n",
    "                        ).astype(\"float64\"),\n",
    "                    ]\n",
    "                    for sequence_num, (idx, row) in enumerate(wfn_df.iterrows())\n",
    "                ]\n",
    "            ),\n",
    "            columns=[\"sequence_num\", \"labels\", \"start_times\", \"end_times\"],\n",
    "        )\n",
    "        \n",
    "        # add syllable information\n",
    "        json_dict[\"indvs\"] = {\n",
    "            bird: {\n",
    "                \"notes\": {\n",
    "                    \"start_times\": NoIndent(\n",
    "                        list(np.concatenate(seq_df.start_times.values))\n",
    "                    ),\n",
    "                    \"end_times\": NoIndent(list(np.concatenate(seq_df.end_times.values))),\n",
    "                    \"labels\": NoIndent(list(np.concatenate(seq_df.labels.values))),\n",
    "                    \"sequence_num\": NoIndent(\n",
    "                        [int(i) for i in np.concatenate(seq_df.sequence_num.values)]\n",
    "                    ),\n",
    "                }\n",
    "            }\n",
    "        }\n",
    "        \n",
    "        \n",
    "        # dump dict into json format\n",
    "        json_txt = json.dumps(json_dict, cls=NoIndentEncoder, indent=2)\n",
    "\n",
    "        wav_stem = bird + \"_\" + wfn.split(\".\")[0]\n",
    "        json_out = (\n",
    "            DATA_DIR / \"processed\" / DATASET_ID / DT_ID / \"JSON\" / (wav_stem + \".JSON\")\n",
    "        )\n",
    "\n",
    "        # save json\n",
    "        avgn.utils.paths.ensure_dir(json_out.as_posix())\n",
    "        print(json_txt, file=open(json_out.as_posix(), \"w\"))\n",
    "        "
   ]
  },
  {
   "cell_type": "code",
   "execution_count": 20,
   "metadata": {
    "ExecuteTime": {
     "end_time": "2020-11-19T18:31:24.663148Z",
     "start_time": "2020-11-19T18:31:24.658738Z"
    }
   },
   "outputs": [
    {
     "name": "stdout",
     "output_type": "stream",
     "text": [
      "{\n",
      "  \"species\": \"Lonchura striata domestica\",\n",
      "  \"common_name\": \"Bengalese finch\",\n",
      "  \"wav_loc\": \"/mnt/cube/ntansey/avgn_test/avgn_paper/data/raw/koumura/zip_contents/Bird9/Wave/216.wav\",\n",
      "  \"samplerate_hz\": 32000,\n",
      "  \"length_s\": 11.124,\n",
      "  \"indvs\": {\n",
      "    \"Bird9\": {\n",
      "      \"notes\": {\n",
      "        \"start_times\": [1.158, 1.302, 1.451, 1.605, 1.761, 1.92, 2.094, 2.243, 2.404, 2.563, 2.713, 2.846, 2.971, 3.082, 3.157, 3.262, 3.372, 3.487, 3.6, 3.715, 3.833, 3.949, 4.068, 4.142, 4.249, 4.364, 4.474, 4.587, 4.698, 4.808, 4.916, 5.031, 5.146, 5.275, 5.4, 5.547, 5.657, 5.735, 5.844, 5.959, 6.078, 6.195, 6.313, 6.43, 6.5105, 6.6185, 6.7325, 6.8495, 6.9635, 7.0785, 7.1925, 7.3035, 7.4345, 7.5855, 7.7345, 7.8515, 7.9285, 8.0385, 8.1555, 8.2775, 8.3945, 8.5135, 8.6335, 8.7545, 8.8755, 8.9955, 9.0765, 9.1865, 9.3025, 9.4185, 9.5335, 9.6505, 9.7665, 9.8785],\n",
      "        \"end_times\": [1.204, 1.372, 1.509, 1.673, 1.837, 1.995, 2.173, 2.327, 2.491, 2.647, 2.791, 2.916, 3.063, 3.138, 3.242, 3.35, 3.461, 3.578, 3.691, 3.809, 3.924, 4.041, 4.125, 4.229, 4.339, 4.452, 4.563, 4.674, 4.785, 4.893, 5.005, 5.117, 5.236, 5.347, 5.474, 5.643, 5.714, 5.821, 5.933, 6.05, 6.168, 6.281, 6.399, 6.491, 6.5965, 6.7105, 6.8245, 6.9395, 7.0535, 7.1675, 7.2755, 7.3905, 7.5055, 7.6585, 7.8355, 7.9065, 8.0165, 8.1305, 8.2495, 8.3655, 8.4855, 8.6045, 8.7235, 8.8475, 8.9615, 9.0545, 9.1625, 9.2775, 9.3935, 9.5075, 9.6235, 9.7365, 9.8465, 9.9665],\n",
      "        \"labels\": [\"0\", \"0\", \"0\", \"0\", \"0\", \"0\", \"0\", \"0\", \"0\", \"0\", \"1\", \"1\", \"2\", \"3\", \"4\", \"4\", \"4\", \"5\", \"5\", \"5\", \"5\", \"5\", \"3\", \"4\", \"4\", \"4\", \"4\", \"4\", \"4\", \"4\", \"4\", \"4\", \"5\", \"1\", \"1\", \"2\", \"3\", \"4\", \"4\", \"4\", \"5\", \"5\", \"5\", \"3\", \"4\", \"4\", \"4\", \"4\", \"4\", \"4\", \"4\", \"5\", \"1\", \"1\", \"2\", \"3\", \"4\", \"4\", \"4\", \"5\", \"5\", \"5\", \"5\", \"5\", \"5\", \"3\", \"4\", \"4\", \"4\", \"4\", \"4\", \"4\", \"4\", \"5\"],\n",
      "        \"sequence_num\": [0, 0, 0, 0, 0, 0, 0, 0, 0, 0, 0, 0, 0, 0, 1, 1, 1, 1, 1, 1, 1, 1, 1, 1, 1, 1, 1, 1, 1, 2, 2, 2, 2, 2, 2, 2, 2, 2, 2, 2, 2, 2, 2, 2, 3, 3, 3, 3, 3, 3, 3, 3, 3, 3, 3, 3, 3, 3, 3, 4, 4, 4, 4, 4, 4, 4, 4, 4, 4, 4, 4, 4, 4, 4]\n",
      "      }\n",
      "    }\n",
      "  }\n",
      "}\n"
     ]
    }
   ],
   "source": [
    "# print an example JSON corresponding to the dataset we just made\n",
    "print(json_txt)"
   ]
  }
 ],
 "metadata": {
  "kernelspec": {
   "display_name": "Python 3 (ipykernel)",
   "language": "python",
   "name": "python3"
  },
  "language_info": {
   "codemirror_mode": {
    "name": "ipython",
    "version": 3
   },
   "file_extension": ".py",
   "mimetype": "text/x-python",
   "name": "python",
   "nbconvert_exporter": "python",
   "pygments_lexer": "ipython3",
   "version": "3.12.4"
  }
 },
 "nbformat": 4,
 "nbformat_minor": 4
}
